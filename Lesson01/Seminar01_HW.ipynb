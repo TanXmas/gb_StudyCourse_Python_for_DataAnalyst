{
 "cells": [
  {
   "cell_type": "markdown",
   "id": "ce339c6b",
   "metadata": {},
   "source": [
    "# Урок 1. Оформление ноутбука и закрепление функций и генераторов"
   ]
  },
  {
   "cell_type": "code",
   "execution_count": 3,
   "id": "f67e06b4",
   "metadata": {},
   "outputs": [],
   "source": [
    "from datetime import datetime"
   ]
  },
  {
   "cell_type": "markdown",
   "id": "828eab8e",
   "metadata": {},
   "source": [
    "## Задание 2.\n",
    "\n",
    "На складе лежат разные фрукты в разном количестве. Нужно написать функцию, которая на вход принимает любое количество названий фруктов и их количество, а возвращает общее количество фруктов на складе."
   ]
  },
  {
   "cell_type": "code",
   "execution_count": 4,
   "id": "ed288e87",
   "metadata": {},
   "outputs": [],
   "source": [
    "def sum_fruits(**kwargs):\n",
    "    return sum(kwargs.values())"
   ]
  },
  {
   "cell_type": "code",
   "execution_count": 3,
   "id": "b5e189d6",
   "metadata": {},
   "outputs": [
    {
     "data": {
      "text/plain": [
       "150"
      ]
     },
     "execution_count": 3,
     "metadata": {},
     "output_type": "execute_result"
    }
   ],
   "source": [
    "data = {'яблоко': 10,\n",
    "        'груша': 20,\n",
    "        'банан': 30,\n",
    "        'апельсин': 40,\n",
    "        'мандарин': 50}\n",
    "\n",
    "sum_fruits(**data)"
   ]
  },
  {
   "cell_type": "markdown",
   "id": "8cc35426",
   "metadata": {},
   "source": [
    "## Задание 3. \n",
    "\n",
    "Дан список с затратами на рекламу. Но в данных есть ошибки, некоторые затраты имеют отрицательную величину. Удалите такие значения из списка и посчитайте суммарные затраты. Используйте list comprehensions."
   ]
  },
  {
   "cell_type": "code",
   "execution_count": 4,
   "id": "55cf975c",
   "metadata": {},
   "outputs": [
    {
     "data": {
      "text/plain": [
       "1425"
      ]
     },
     "execution_count": 4,
     "metadata": {},
     "output_type": "execute_result"
    }
   ],
   "source": [
    "lst = [100, 125, -90, 345, 655, -1, 0, 200]\n",
    "sum([l for l in lst if l>0])"
   ]
  },
  {
   "cell_type": "markdown",
   "id": "8db81695",
   "metadata": {},
   "source": [
    "## Задание 4. \n",
    "\n",
    "Даны два списка. Дата покупки и суммы покупок по датам."
   ]
  },
  {
   "cell_type": "code",
   "execution_count": 5,
   "id": "b602c79a",
   "metadata": {},
   "outputs": [],
   "source": [
    "lst_date = ['2021-09-14', '2021-12-15', '2021-09-08', '2021-12-05', '2021-10-09', '2021-09-30', '2021-12-22', '2021-11-29',\n",
    "            '2021-12-24', '2021-11-26', '2021-10-27', '2021-12-18', '2021-11-09', '2021-11-23', '2021-09-27', '2021-10-02',\n",
    "            '2021-12-27', '2021-09-20', '2021-12-13', '2021-11-01', '2021-11-09', '2021-12-06', '2021-12-08', '2021-10-09',\n",
    "            '2021-10-31', '2021-09-30', '2021-11-09', '2021-12-13', '2021-10-26', '2021-12-09']\n",
    "\n",
    "lst_sum = [1270, 8413, 9028, 3703, 5739, 4095, 295, 4944, 5723, 3701, 4471, 651, 7037, 4274, 6275, 4988, 6930, 2971, 6592,\n",
    "           2004, 2822, 519, 3406, 2732, 5015, 2008, 316, 6333, 5700, 2887]"
   ]
  },
  {
   "cell_type": "markdown",
   "id": "d8db0f84",
   "metadata": {},
   "source": [
    "### 4.1 Найдите, какая выручка у компании в ноябре. Используйте list comprehensions."
   ]
  },
  {
   "cell_type": "code",
   "execution_count": 6,
   "id": "cc916d16",
   "metadata": {},
   "outputs": [
    {
     "data": {
      "text/plain": [
       "25098"
      ]
     },
     "execution_count": 6,
     "metadata": {},
     "output_type": "execute_result"
    }
   ],
   "source": [
    "lst_date = [datetime.strptime(d, '%Y-%m-%d').date() for d in lst_date]\n",
    "sum([lst_sum[i] for i,d in enumerate(lst_date) if d.month == 11])"
   ]
  },
  {
   "cell_type": "markdown",
   "id": "5ddb67b8",
   "metadata": {},
   "source": [
    "### 4.2. Найдите выручку компании в зависимости от месяца.\n",
    "\n",
    "Для этого напишите функцию, которая на вход принимает список с датами и список с выручкой, а на выходе словарь, где ключи - это месяцы, а значения - это выручка. Используйте аннотирование типов."
   ]
  },
  {
   "cell_type": "code",
   "execution_count": 7,
   "id": "c7ac144e",
   "metadata": {},
   "outputs": [],
   "source": [
    "def mes_revenue(lst_date: list, lst_sum: list) -> dict:\n",
    "    dct = {}\n",
    "    for i,d in enumerate(lst_date):\n",
    "        dct[d.month] = dct.get(d.month, 0) + lst_sum[i]\n",
    "    return dct"
   ]
  },
  {
   "cell_type": "code",
   "execution_count": 8,
   "id": "79092d83",
   "metadata": {},
   "outputs": [
    {
     "data": {
      "text/plain": [
       "{9: 25647, 12: 45452, 10: 28645, 11: 25098}"
      ]
     },
     "execution_count": 8,
     "metadata": {},
     "output_type": "execute_result"
    }
   ],
   "source": [
    "mes_revenue(lst_date, lst_sum)"
   ]
  },
  {
   "cell_type": "code",
   "execution_count": null,
   "id": "04cb3c65",
   "metadata": {},
   "outputs": [],
   "source": []
  }
 ],
 "metadata": {
  "kernelspec": {
   "display_name": "Python 3 (ipykernel)",
   "language": "python",
   "name": "python3"
  },
  "language_info": {
   "codemirror_mode": {
    "name": "ipython",
    "version": 3
   },
   "file_extension": ".py",
   "mimetype": "text/x-python",
   "name": "python",
   "nbconvert_exporter": "python",
   "pygments_lexer": "ipython3",
   "version": "3.9.13"
  }
 },
 "nbformat": 4,
 "nbformat_minor": 5
}
